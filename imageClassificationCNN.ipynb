{
 "cells": [
  {
   "cell_type": "code",
   "execution_count": 1,
   "id": "fa0589a6-4cd7-4da2-834b-e9374f85462d",
   "metadata": {},
   "outputs": [],
   "source": [
    "import tensorflow as tf\n",
    "import keras\n",
    "from keras.layers import Conv2D,MaxPooling2D,Dense,Dropout,Flatten\n",
    "import numpy as np \n",
    "import matplotlib.pyplot as plt\n",
    "import pandas as pd\n",
    "from tensorflow.keras.utils import to_categorical\n",
    "import os\n",
    "from tqdm import tqdm\n",
    "import cv2\n",
    "import random\n",
    "import pickle as pk\n",
    "from sklearn.model_selection import train_test_split"
   ]
  },
  {
   "cell_type": "code",
   "execution_count": 2,
   "id": "9ebf3a8d-1c06-4af9-a8cb-f0a004603431",
   "metadata": {},
   "outputs": [
    {
     "name": "stdout",
     "output_type": "stream",
     "text": [
      "['test', 'train']\n"
     ]
    }
   ],
   "source": [
    "mydataset='D:\\jupyter\\Datasets\\cats & dogs'\n",
    "print(os.listdir(mydataset))"
   ]
  },
  {
   "cell_type": "markdown",
   "id": "daae4ddd-ce4b-43a4-a1f0-b05f0e6dc883",
   "metadata": {},
   "source": [
    "# Constants"
   ]
  },
  {
   "cell_type": "code",
   "execution_count": 3,
   "id": "d30b2ee4-5b73-4c81-b94d-678315b2ef24",
   "metadata": {},
   "outputs": [],
   "source": [
    "FAST_RUN = False\n",
    "IMAGE_WIDTH=150\n",
    "IMAGE_HEIGHT=150\n",
    "IMAGE_SIZE=(IMAGE_WIDTH, IMAGE_HEIGHT)\n",
    "IMAGE_CHANNELS=3"
   ]
  },
  {
   "cell_type": "markdown",
   "id": "194662d8-a20d-4663-b035-c610a54ffb90",
   "metadata": {},
   "source": [
    "# Handle files and Directory"
   ]
  },
  {
   "cell_type": "code",
   "execution_count": 4,
   "id": "31189120-5454-4bd4-bed2-48c034356e75",
   "metadata": {},
   "outputs": [
    {
     "name": "stdout",
     "output_type": "stream",
     "text": [
      "['cats', 'dogs']\n"
     ]
    }
   ],
   "source": [
    "trainfolder=os.path.join(mydataset,'train')\n",
    "filenames=os.listdir(trainfolder)\n",
    "print(filenames)"
   ]
  },
  {
   "cell_type": "code",
   "execution_count": 5,
   "id": "dae5eb17-03dc-41af-8495-869cc1a70621",
   "metadata": {
    "tags": []
   },
   "outputs": [],
   "source": [
    "categories=['cats','dogs'] \n",
    "training =[]\n",
    "classnames={0:'cats',1:'dogs'}"
   ]
  },
  {
   "cell_type": "code",
   "execution_count": 6,
   "id": "812d14e1-af1e-4f50-ab9d-b454c176baa7",
   "metadata": {},
   "outputs": [
    {
     "name": "stderr",
     "output_type": "stream",
     "text": [
      "100%|████████████████████████████████████████████████████████████████████████████████| 329/329 [00:03<00:00, 90.01it/s]\n",
      "100%|████████████████████████████████████████████████████████████████████████████████| 328/328 [00:04<00:00, 78.37it/s]\n"
     ]
    }
   ],
   "source": [
    "for category in categories:\n",
    "    x=0\n",
    "    \n",
    "    folder=os.path.join(trainfolder,category)\n",
    "    for file in tqdm( os.listdir(folder)):\n",
    "        try:\n",
    "            img=cv2.imread(os.path.join(folder,file))\n",
    "            img=cv2.cvtColor(img,cv2.COLOR_BGR2RGB)\n",
    "            img=cv2.resize(img,IMAGE_SIZE)# size image for CNN input\n",
    "            classNum=categories.index(category) #detrmine class\n",
    "            training.append([img,classNum])\n",
    "            # plt.imshow(img)\n",
    "            # plt.show()\n",
    "        except Exception as e:\n",
    "            pass\n",
    "        # x+=1\n",
    "        # if x==2:\n",
    "        #     break"
   ]
  },
  {
   "cell_type": "code",
   "execution_count": 7,
   "id": "b0c3eca7-8475-4789-8bd2-6100068de73c",
   "metadata": {},
   "outputs": [
    {
     "data": {
      "text/plain": [
       "[array([[[ 92, 140, 155],\n",
       "         [110, 144, 160],\n",
       "         [118, 147, 158],\n",
       "         ...,\n",
       "         [ 71, 140, 147],\n",
       "         [ 78, 142, 154],\n",
       "         [ 82, 146, 158]],\n",
       " \n",
       "        [[ 89, 137, 152],\n",
       "         [100, 139, 155],\n",
       "         [107, 141, 154],\n",
       "         ...,\n",
       "         [ 69, 137, 148],\n",
       "         [ 75, 139, 151],\n",
       "         [ 80, 143, 155]],\n",
       " \n",
       "        [[ 89, 140, 151],\n",
       "         [ 96, 139, 154],\n",
       "         [ 98, 141, 157],\n",
       "         ...,\n",
       "         [ 73, 139, 153],\n",
       "         [ 76, 140, 152],\n",
       "         [ 80, 144, 156]],\n",
       " \n",
       "        ...,\n",
       " \n",
       "        [[ 52,  42,  34],\n",
       "         [ 52,  43,  34],\n",
       "         [ 56,  46,  37],\n",
       "         ...,\n",
       "         [ 65,  40,  37],\n",
       "         [ 58,  43,  41],\n",
       "         [ 59,  44,  41]],\n",
       " \n",
       "        [[ 93,  86,  76],\n",
       "         [ 94,  86,  76],\n",
       "         [ 96,  88,  78],\n",
       "         ...,\n",
       "         [ 66,  45,  38],\n",
       "         [ 63,  48,  45],\n",
       "         [ 63,  48,  45]],\n",
       " \n",
       "        [[ 42,  44,  41],\n",
       "         [ 38,  40,  37],\n",
       "         [ 36,  38,  35],\n",
       "         ...,\n",
       "         [ 59,  50,  45],\n",
       "         [ 59,  44,  41],\n",
       "         [ 58,  43,  40]]], dtype=uint8),\n",
       " 0]"
      ]
     },
     "execution_count": 7,
     "metadata": {},
     "output_type": "execute_result"
    }
   ],
   "source": [
    "training [:][0]"
   ]
  },
  {
   "cell_type": "code",
   "execution_count": 8,
   "id": "272cefb4-d615-44cd-9b7a-de33c9d20a88",
   "metadata": {},
   "outputs": [
    {
     "name": "stdout",
     "output_type": "stream",
     "text": [
      "1\n",
      "0\n",
      "0\n",
      "1\n",
      "1\n",
      "1\n",
      "0\n",
      "1\n",
      "1\n",
      "0\n"
     ]
    }
   ],
   "source": [
    "random.shuffle(training)\n",
    "for trainSample in training[:10]:\n",
    "    print(trainSample[1])\n",
    "    \n",
    "# image_classes = [item[1] for item in training]\n",
    "# image_classes"
   ]
  },
  {
   "cell_type": "code",
   "execution_count": 9,
   "id": "5d481267-ba8a-4af4-ad35-e0d39b484d18",
   "metadata": {},
   "outputs": [],
   "source": [
    "x_train_data=[]\n",
    "y_train_data=[]\n",
    "for feature,label in training:\n",
    "    x_train_data.append(feature)\n",
    "    y_train_data.append(label)\n",
    "    "
   ]
  },
  {
   "cell_type": "code",
   "execution_count": 10,
   "id": "aebf68bc-3879-411b-847c-bc4b51322c23",
   "metadata": {},
   "outputs": [],
   "source": [
    "x_train_data=np.array(x_train_data)\n",
    "y_train_data=np.array(y_train_data)"
   ]
  },
  {
   "cell_type": "code",
   "execution_count": 11,
   "id": "556b2f96-5b8a-4026-8fe6-2126943ed8cc",
   "metadata": {},
   "outputs": [
    {
     "name": "stdout",
     "output_type": "stream",
     "text": [
      "(657, 150, 150, 3)\n",
      "(657,)\n"
     ]
    }
   ],
   "source": [
    "x_train_data=x_train_data.reshape(-1,IMAGE_HEIGHT,IMAGE_WIDTH,IMAGE_CHANNELS)\n",
    "# print(x_train_data[0])\n",
    "print(x_train_data.shape)\n",
    "# print(y_train_data[:10])\n",
    "print(y_train_data.shape)"
   ]
  },
  {
   "cell_type": "markdown",
   "id": "dffdd23c-566a-4ab9-b76e-1f9af1584696",
   "metadata": {},
   "source": [
    "# save x , y for use withou load images"
   ]
  },
  {
   "cell_type": "code",
   "execution_count": 12,
   "id": "5800df7f-1a61-459a-97f3-fa22f5f5b9d2",
   "metadata": {},
   "outputs": [],
   "source": [
    "pickle_out=open('X_train.pickle','wb')# write binary\n",
    "pk.dump(x_train_data,pickle_out) #save x train in binary in file X.pickle\n",
    "pickle_out.close()\n",
    "\n",
    "pickle_out=open('Y_train.pickle','wb')\n",
    "pk.dump(y_train_data,pickle_out)#save y train in binary in file Y.pickle\n",
    "pickle_out.close()\n"
   ]
  },
  {
   "cell_type": "code",
   "execution_count": 13,
   "id": "72b0dab6-dd65-4732-b09e-692c73c3cd02",
   "metadata": {},
   "outputs": [],
   "source": [
    "pickle_in=open('X_train.pickle','rb')# write binary\n",
    "x_train=pk.load(pickle_in) #save x train in binary in file X.pickle\n",
    "pickle_in.close()\n",
    "\n",
    "pickle_in=open('Y_train.pickle','rb')\n",
    "y_train=pk.load(pickle_in)#save y train in binary in file Y.pickle\n",
    "pickle_in.close()\n"
   ]
  },
  {
   "cell_type": "code",
   "execution_count": 14,
   "id": "8ea30dff-6c49-4ef8-aee3-a6dfc7df5e06",
   "metadata": {},
   "outputs": [
    {
     "name": "stdout",
     "output_type": "stream",
     "text": [
      "(657, 150, 150, 3)\n",
      "(657,)\n"
     ]
    }
   ],
   "source": [
    "print(x_train.shape)\n",
    "print(y_train.shape)"
   ]
  },
  {
   "cell_type": "markdown",
   "id": "cf6ad647-a90c-492f-951a-1a327ba58206",
   "metadata": {},
   "source": [
    "# test data"
   ]
  },
  {
   "cell_type": "code",
   "execution_count": 15,
   "id": "3a8e9030-21f9-4a71-9d30-d4f26931ad56",
   "metadata": {},
   "outputs": [
    {
     "name": "stdout",
     "output_type": "stream",
     "text": [
      "['cats', 'dogs']\n"
     ]
    }
   ],
   "source": [
    "testfolder=os.path.join(mydataset,'test')\n",
    "testfilenames=os.listdir(testfolder)\n",
    "print(testfilenames)"
   ]
  },
  {
   "cell_type": "code",
   "execution_count": 16,
   "id": "4db56d74-0e59-4c0a-8aed-26e08bfcbbcb",
   "metadata": {},
   "outputs": [],
   "source": [
    "test=[]"
   ]
  },
  {
   "cell_type": "code",
   "execution_count": 17,
   "id": "0ea0dbdb-fa8b-4d2b-8a1e-807f35f8413c",
   "metadata": {},
   "outputs": [
    {
     "name": "stderr",
     "output_type": "stream",
     "text": [
      "100%|██████████████████████████████████████████████████████████████████████████████████| 20/20 [00:00<00:00, 96.36it/s]\n",
      "100%|█████████████████████████████████████████████████████████████████████████████████| 20/20 [00:00<00:00, 136.53it/s]\n"
     ]
    }
   ],
   "source": [
    "for category in categories:\n",
    "    x=0\n",
    "    \n",
    "    folder=os.path.join(testfolder,category)\n",
    "    for file in tqdm( os.listdir(folder)):\n",
    "        try:\n",
    "            img_test=cv2.imread(os.path.join(folder,file))\n",
    "            img_test=cv2.cvtColor(img_test,cv2.COLOR_BGR2RGB)\n",
    "            img_test=cv2.resize(img_test,IMAGE_SIZE)# size image for CNN input\n",
    "            classNum=categories.index(category) #detrmine class\n",
    "            test.append([img_test,classNum])\n",
    "            # plt.imshow(img)\n",
    "            # plt.show()\n",
    "        except Exception as e:\n",
    "            pass\n",
    "        # x+=1\n",
    "        # if x==2:\n",
    "        #     break"
   ]
  },
  {
   "cell_type": "code",
   "execution_count": 18,
   "id": "dcd77cba-3231-4400-b300-c1e83cc3a434",
   "metadata": {},
   "outputs": [
    {
     "name": "stdout",
     "output_type": "stream",
     "text": [
      "1\n",
      "1\n",
      "0\n",
      "0\n",
      "0\n",
      "0\n",
      "1\n",
      "0\n",
      "0\n",
      "0\n"
     ]
    }
   ],
   "source": [
    "random.shuffle(test)\n",
    "for trainSample in test[:10]:\n",
    "    print(trainSample[1])\n",
    "    \n",
    "# image_classes = [item[1] for item in training]\n",
    "# image_classes"
   ]
  },
  {
   "cell_type": "code",
   "execution_count": 19,
   "id": "f57e4c5b-924c-45a8-8c0c-9fd782e6e962",
   "metadata": {},
   "outputs": [],
   "source": [
    "x_test_data=[]\n",
    "y_test_data=[]\n",
    "for feature,label in test:\n",
    "    x_test_data.append(feature)\n",
    "    y_test_data.append(label)\n",
    "    "
   ]
  },
  {
   "cell_type": "code",
   "execution_count": 20,
   "id": "61ec8e7d-c8ec-433d-b7d5-b1c05c2dbb2e",
   "metadata": {},
   "outputs": [],
   "source": [
    "x_test_data=np.array(x_test_data)\n",
    "y_test_data=np.array(y_test_data)"
   ]
  },
  {
   "cell_type": "code",
   "execution_count": 21,
   "id": "47fb8fd3-68db-4719-9372-af4245d844ac",
   "metadata": {},
   "outputs": [
    {
     "name": "stdout",
     "output_type": "stream",
     "text": [
      "(40, 150, 150, 3)\n",
      "(40,)\n"
     ]
    }
   ],
   "source": [
    "x_test_data=x_test_data.reshape(-1,IMAGE_HEIGHT,IMAGE_WIDTH,IMAGE_CHANNELS)\n",
    "# print(x_train_data[0])\n",
    "print(x_test_data.shape)\n",
    "# print(y_train_data[:10])\n",
    "print(y_test_data.shape)"
   ]
  },
  {
   "cell_type": "code",
   "execution_count": 22,
   "id": "8c877dee-945a-4ed2-a50b-411b068eaf69",
   "metadata": {},
   "outputs": [
    {
     "data": {
      "text/plain": [
       "array([1, 1, 0, 0, 0, 0, 1, 0, 0, 0, 1, 1, 1, 1, 0, 0, 1, 0, 1, 0, 1, 0,\n",
       "       1, 1, 1, 0, 1, 1, 1, 0, 0, 1, 0, 0, 1, 1, 0, 1, 0, 0])"
      ]
     },
     "execution_count": 22,
     "metadata": {},
     "output_type": "execute_result"
    }
   ],
   "source": [
    "y_test_data"
   ]
  },
  {
   "cell_type": "code",
   "execution_count": 23,
   "id": "08c0fe17-a718-437b-8fbe-ee23652c88f8",
   "metadata": {},
   "outputs": [],
   "source": [
    "# for a in x_test_data:\n",
    "#     plt.imshow(a)\n",
    "#     plt.show()"
   ]
  },
  {
   "cell_type": "markdown",
   "id": "774f4092-4b4d-494e-9334-fff07e3a70b7",
   "metadata": {},
   "source": [
    "# save x , y for use withou load images"
   ]
  },
  {
   "cell_type": "code",
   "execution_count": 24,
   "id": "d15da19e-2188-4712-aa1f-2047d4afa5dd",
   "metadata": {},
   "outputs": [],
   "source": [
    "pickle_out=open('X_test.pickle','wb')# write binary\n",
    "pk.dump(x_test_data,pickle_out) #save x train in binary in file X.pickle\n",
    "pickle_out.close()\n",
    "\n",
    "pickle_out=open('Y_test.pickle','wb')\n",
    "pk.dump(y_test_data,pickle_out)#save y train in binary in file Y.pickle\n",
    "pickle_out.close()\n"
   ]
  },
  {
   "cell_type": "code",
   "execution_count": 25,
   "id": "1552f9d3-654b-42dc-953c-58ca66aa7457",
   "metadata": {},
   "outputs": [],
   "source": [
    "pickle_in=open('X_test.pickle','rb')# write binary\n",
    "x_test=pk.load(pickle_in) #save x train in binary in file X.pickle\n",
    "pickle_in.close()\n",
    "\n",
    "pickle_in=open('Y_test.pickle','rb')\n",
    "y_test=pk.load(pickle_in)#save y train in binary in file Y.pickle\n",
    "pickle_in.close()\n"
   ]
  },
  {
   "cell_type": "code",
   "execution_count": 26,
   "id": "31facdaf-0bce-4ef8-a08f-14d173b226a0",
   "metadata": {},
   "outputs": [
    {
     "name": "stdout",
     "output_type": "stream",
     "text": [
      "(40, 150, 150, 3)\n",
      "(40,)\n"
     ]
    }
   ],
   "source": [
    "print(x_test.shape)\n",
    "print(y_test.shape)"
   ]
  },
  {
   "cell_type": "code",
   "execution_count": 27,
   "id": "5eb0abc6-73b7-4c52-94f1-d8f0f815beae",
   "metadata": {},
   "outputs": [],
   "source": [
    "# x_train,x_test,y_train,y_test=train_test_split(x,y,test_size=0.1,random_state=36)\n",
    "# print(x_train.shape)\n",
    "# print(y_train.shape)\n",
    "\n",
    "# print(x_test.shape)\n",
    "# print(y_test.shape)\n",
    "# y_train"
   ]
  },
  {
   "cell_type": "markdown",
   "id": "f99c4416-7626-4573-849c-c6b2b1fed694",
   "metadata": {},
   "source": [
    "# one-hot encoded"
   ]
  },
  {
   "cell_type": "code",
   "execution_count": 28,
   "id": "730a7518-838c-4ef2-aefe-19cbee66aee0",
   "metadata": {},
   "outputs": [
    {
     "name": "stdout",
     "output_type": "stream",
     "text": [
      "(657, 2)\n",
      "(40, 2)\n"
     ]
    }
   ],
   "source": [
    "y_train=to_categorical(y_train)\n",
    "y_test = to_categorical(y_test)\n",
    "print(y_train.shape)\n",
    "print(y_test.shape)"
   ]
  },
  {
   "cell_type": "markdown",
   "id": "5f8ae434-1b03-43c4-a8e6-bdf33554d4e6",
   "metadata": {},
   "source": [
    "# normalization "
   ]
  },
  {
   "cell_type": "code",
   "execution_count": 29,
   "id": "edaf7c89-2d5b-43b0-8006-b4fb41815b72",
   "metadata": {},
   "outputs": [],
   "source": [
    "x_train=x_train.astype('float')\n",
    "x_test=x_test.astype('float')\n",
    "\n",
    "x_train=x_train/255.0\n",
    "x_test=x_test/255.0"
   ]
  },
  {
   "cell_type": "code",
   "execution_count": 30,
   "id": "58d357db-495b-480c-a3ca-c8b3219b75fa",
   "metadata": {},
   "outputs": [
    {
     "data": {
      "text/plain": [
       "array([0., 1.], dtype=float32)"
      ]
     },
     "execution_count": 30,
     "metadata": {},
     "output_type": "execute_result"
    }
   ],
   "source": [
    "y_train[0]"
   ]
  },
  {
   "cell_type": "markdown",
   "id": "9c7f4f9a-317e-4783-8587-3316373ff94d",
   "metadata": {},
   "source": [
    "# Build Model"
   ]
  },
  {
   "cell_type": "code",
   "execution_count": 31,
   "id": "12ea6aa1-cb42-4053-923e-60e8b2a0c754",
   "metadata": {},
   "outputs": [],
   "source": [
    "model=keras.models.Sequential()"
   ]
  },
  {
   "cell_type": "code",
   "execution_count": 32,
   "id": "eb1b9f3c-e93a-4d17-b4ba-b06eff793116",
   "metadata": {},
   "outputs": [],
   "source": [
    "model.add(Conv2D(32,(3,3),input_shape=(IMAGE_WIDTH,IMAGE_HEIGHT,IMAGE_CHANNELS), activation='relu'))\n",
    "model.add(MaxPooling2D(pool_size=(2,2)))\n",
    "model.add(Dropout(0.25))\n",
    "\n",
    "model.add(Conv2D(64,(3,3),activation='relu'))\n",
    "model.add(MaxPooling2D(pool_size=(2,2)))\n",
    "model.add(Dropout(0.25))\n",
    "\n",
    "model.add(Conv2D(128,(3,3),activation='relu'))\n",
    "model.add(MaxPooling2D(pool_size=(2,2)))\n",
    "model.add(Dropout(0.25))\n",
    "\n",
    "model.add(Flatten())\n",
    "model.add(Dense(512, activation='relu'))\n",
    "model.add(Dropout(0.5))\n",
    "\n",
    "model.add(Dense(2,activation='softmax'))"
   ]
  },
  {
   "cell_type": "code",
   "execution_count": 33,
   "id": "08d6fe28-3ca9-4e73-89ac-520ab51445af",
   "metadata": {},
   "outputs": [
    {
     "name": "stdout",
     "output_type": "stream",
     "text": [
      "Model: \"sequential\"\n",
      "_________________________________________________________________\n",
      " Layer (type)                Output Shape              Param #   \n",
      "=================================================================\n",
      " conv2d (Conv2D)             (None, 148, 148, 32)      896       \n",
      "                                                                 \n",
      " max_pooling2d (MaxPooling2D  (None, 74, 74, 32)       0         \n",
      " )                                                               \n",
      "                                                                 \n",
      " dropout (Dropout)           (None, 74, 74, 32)        0         \n",
      "                                                                 \n",
      " conv2d_1 (Conv2D)           (None, 72, 72, 64)        18496     \n",
      "                                                                 \n",
      " max_pooling2d_1 (MaxPooling  (None, 36, 36, 64)       0         \n",
      " 2D)                                                             \n",
      "                                                                 \n",
      " dropout_1 (Dropout)         (None, 36, 36, 64)        0         \n",
      "                                                                 \n",
      " conv2d_2 (Conv2D)           (None, 34, 34, 128)       73856     \n",
      "                                                                 \n",
      " max_pooling2d_2 (MaxPooling  (None, 17, 17, 128)      0         \n",
      " 2D)                                                             \n",
      "                                                                 \n",
      " dropout_2 (Dropout)         (None, 17, 17, 128)       0         \n",
      "                                                                 \n",
      " flatten (Flatten)           (None, 36992)             0         \n",
      "                                                                 \n",
      " dense (Dense)               (None, 512)               18940416  \n",
      "                                                                 \n",
      " dropout_3 (Dropout)         (None, 512)               0         \n",
      "                                                                 \n",
      " dense_1 (Dense)             (None, 2)                 1026      \n",
      "                                                                 \n",
      "=================================================================\n",
      "Total params: 19,034,690\n",
      "Trainable params: 19,034,690\n",
      "Non-trainable params: 0\n",
      "_________________________________________________________________\n"
     ]
    }
   ],
   "source": [
    "model.compile(optimizer='adam',loss='categorical_crossentropy',metrics=['accuracy'])\n",
    "model.summary()"
   ]
  },
  {
   "cell_type": "code",
   "execution_count": 34,
   "id": "dc5a7afc-dfad-4596-9158-ed9a903ec8c3",
   "metadata": {},
   "outputs": [
    {
     "name": "stdout",
     "output_type": "stream",
     "text": [
      "2\n"
     ]
    }
   ],
   "source": [
    "y_train[:15]\n",
    "num_classes = len(np.unique(y_train))\n",
    "print(num_classes)\n"
   ]
  },
  {
   "cell_type": "code",
   "execution_count": null,
   "id": "15267ed8-e236-4db4-96e6-13cbd701ab0e",
   "metadata": {},
   "outputs": [],
   "source": []
  },
  {
   "cell_type": "code",
   "execution_count": 35,
   "id": "81822f5d-c890-4bf0-95fc-1928df1a814f",
   "metadata": {},
   "outputs": [
    {
     "name": "stdout",
     "output_type": "stream",
     "text": [
      "Epoch 1/3\n",
      "21/21 [==============================] - 13s 586ms/step - loss: 1.0770 - accuracy: 0.5266\n",
      "Epoch 2/3\n",
      "21/21 [==============================] - 11s 542ms/step - loss: 0.6942 - accuracy: 0.5205\n",
      "Epoch 3/3\n",
      "21/21 [==============================] - 11s 546ms/step - loss: 0.6897 - accuracy: 0.5723\n"
     ]
    },
    {
     "data": {
      "text/plain": [
       "<keras.callbacks.History at 0x1fc58880100>"
      ]
     },
     "execution_count": 35,
     "metadata": {},
     "output_type": "execute_result"
    }
   ],
   "source": [
    "model.fit(x_train,y_train,epochs=3)"
   ]
  },
  {
   "cell_type": "code",
   "execution_count": 36,
   "id": "aa3d9183-94d2-44da-8571-5f5072dc5023",
   "metadata": {},
   "outputs": [
    {
     "name": "stdout",
     "output_type": "stream",
     "text": [
      "2/2 [==============================] - 0s 42ms/step - loss: 0.6912 - accuracy: 0.5250\n",
      "0.6911694407463074\n",
      "0.5249999761581421\n"
     ]
    }
   ],
   "source": [
    "val_loss, val_acc = model.evaluate(x_test, y_test)\n",
    "print(val_loss)\n",
    "print(val_acc)"
   ]
  },
  {
   "cell_type": "code",
   "execution_count": 37,
   "id": "ce4bdb64-0525-477a-aedf-fdfc354b679a",
   "metadata": {},
   "outputs": [
    {
     "name": "stdout",
     "output_type": "stream",
     "text": [
      "1/1 [==============================] - 0s 365ms/step\n",
      "(1, 2)\n"
     ]
    },
    {
     "data": {
      "text/plain": [
       "array([[0.50900346, 0.49099654]], dtype=float32)"
      ]
     },
     "execution_count": 37,
     "metadata": {},
     "output_type": "execute_result"
    }
   ],
   "source": [
    "testimgnum=16\n",
    "predicted=model.predict(np.array([x_test[testimgnum]]))\n",
    "print(predicted.shape)\n",
    "predicted "
   ]
  },
  {
   "cell_type": "code",
   "execution_count": 38,
   "id": "a47c19cf-a0f1-4274-864a-12240e7b035e",
   "metadata": {},
   "outputs": [
    {
     "name": "stdout",
     "output_type": "stream",
     "text": [
      "predicted Class 0\n",
      "actual class [0. 1.]\n"
     ]
    },
    {
     "data": {
      "text/plain": [
       "(40, 150, 150, 3)"
      ]
     },
     "execution_count": 38,
     "metadata": {},
     "output_type": "execute_result"
    }
   ],
   "source": [
    "predictedClass=np.argmax(predicted[0])\n",
    "print( f'predicted Class {predictedClass}')\n",
    "print( f'actual class {y_test[testimgnum] }')\n",
    "x_test.shape"
   ]
  },
  {
   "cell_type": "code",
   "execution_count": 39,
   "id": "78cd9876-b881-4cb0-9d40-bc8b2a368c72",
   "metadata": {},
   "outputs": [
    {
     "data": {
      "image/png": "[encoded data removed]",
      "text/plain": [
       "<Figure size 640x480 with 1 Axes>"
      ]
     },
     "metadata": {},
     "output_type": "display_data"
    }
   ],
   "source": [
    "actual=np.argmax(y_test[testimgnum])\n",
    "plt.imshow(x_test[testimgnum],cmap='gray')\n",
    "plt.title(f'predicted Class is {classnames[predictedClass]} Actual class is {classnames[actual]} ')\n",
    "plt.xticks([])\n",
    "plt.yticks([])\n",
    "plt.show()"
   ]
  },
  {
   "cell_type": "code",
   "execution_count": null,
   "id": "9092e961-08e6-441a-827e-12379604533a",
   "metadata": {},
   "outputs": [],
   "source": []
  },
  {
   "cell_type": "code",
   "execution_count": null,
   "id": "b1785cc8-4977-4c86-9767-bcf5fe840c3f",
   "metadata": {},
   "outputs": [],
   "source": []
  }
 ],
 "metadata": {
  "kernelspec": {
   "display_name": "Python 3 (ipykernel)",
   "language": "python",
   "name": "python3"
  },
  "language_info": {
   "codemirror_mode": {
    "name": "ipython",
    "version": 3
   },
   "file_extension": ".py",
   "mimetype": "text/x-python",
   "name": "python",
   "nbconvert_exporter": "python",
   "pygments_lexer": "ipython3",
   "version": "3.10.9"
  }
 },
 "nbformat": 4,
 "nbformat_minor": 5
}
